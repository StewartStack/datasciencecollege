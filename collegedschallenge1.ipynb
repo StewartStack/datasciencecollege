{
 "cells": [
  {
   "cell_type": "markdown",
   "metadata": {},
   "source": [
    "<h2>\n",
    "Add the following to the first cell in your Jupyter Notebook file (use the # symbol to add these lines as comments):\n",
    "\n",
    "> Your Name <br>\n",
    "> Lesson1 Exercises<br>\n",
    "> Today’s Date\n",
    "\n"
   ]
  },
  {
   "cell_type": "code",
   "execution_count": null,
   "metadata": {},
   "outputs": [],
   "source": [
    "#John Stewart\n",
    "#Lesson 1 Exercises\n",
    "#30/11/2022"
   ]
  },
  {
   "cell_type": "markdown",
   "metadata": {},
   "source": [
    "<h3>Question 1\n",
    "\n",
    ">Calculate the following:\n",
    "\n",
    "> 7 x 5 + 2/4 \n",
    "\n",
    ">You need it to be done in such a way that the 5 and 2 are added first and then the calculation is done\n"
   ]
  },
  {
   "cell_type": "code",
   "execution_count": 1,
   "metadata": {},
   "outputs": [
    {
     "data": {
      "text/plain": [
       "12.25"
      ]
     },
     "execution_count": 1,
     "metadata": {},
     "output_type": "execute_result"
    }
   ],
   "source": [
    "7 * (5 + 2) / 4"
   ]
  },
  {
   "cell_type": "markdown",
   "metadata": {},
   "source": [
    "<h3>Question 2\n",
    "\n",
    "> Evaluate these numbers:  \n",
    "7 x 5 x 2 then divide the total by 2"
   ]
  },
  {
   "cell_type": "code",
   "execution_count": 11,
   "metadata": {},
   "outputs": [
    {
     "data": {
      "text/plain": [
       "35.0"
      ]
     },
     "execution_count": 11,
     "metadata": {},
     "output_type": "execute_result"
    }
   ],
   "source": [
    "7 * 5 * 2 / 2"
   ]
  },
  {
   "cell_type": "markdown",
   "metadata": {},
   "source": [
    "<h3>Question 3\n",
    "\n",
    "> Create an input prompt for a name, create a second input prompt for an age. The inputs should be stored as variables. Print the results of the input using the print function as described in the notes.  the print statement should be done with one line of code. The print statement should read: \n",
    " Hello Jane your age is 25</span>"
   ]
  },
  {
   "cell_type": "markdown",
   "metadata": {},
   "source": [
    ">"
   ]
  },
  {
   "cell_type": "code",
   "execution_count": 6,
   "metadata": {},
   "outputs": [
    {
     "name": "stdout",
     "output_type": "stream",
     "text": [
      "Hello John your age is 35.\n"
     ]
    }
   ],
   "source": [
    "name = input(\"What is your name? \")#Prompts user to input name\n",
    "age = input(\"How old are you?\")#Prompts user to input age after name has been entered.\n",
    "print(\"Hello \" + name + \". Your age is \" + age + \".\")#Prints with the name and age variables"
   ]
  },
  {
   "cell_type": "markdown",
   "metadata": {},
   "source": [
    "<h3>Question 4\n",
    "\n",
    ">Use the methods for printing described in the the notes. This should be ONE print statement. The print statement should be formatted as shown:\n",
    "\n",
    "> This quote is from King Lear:\n",
    "\n",
    "> “How sharper than a serpent's tooth it is\n",
    "\n",
    "> To have a thankless child!”</span>\n"
   ]
  },
  {
   "cell_type": "code",
   "execution_count": 12,
   "metadata": {},
   "outputs": [
    {
     "name": "stdout",
     "output_type": "stream",
     "text": [
      "This quote is fron King Lear:\n",
      "\"How sharper than a serpent's tooth it is\n",
      "To have a thankless child!\"\n"
     ]
    }
   ],
   "source": [
    "print(\"\"\"This quote is fron King Lear:\n",
    "\\\"How sharper than a serpent's tooth it is\n",
    "To have a thankless child!\\\"\"\"\")"
   ]
  },
  {
   "cell_type": "markdown",
   "metadata": {},
   "source": [
    "<h3>Question 5\n",
    "\n",
    ">Copy this code into a cell in your file. The code contains an error. Correct the error. Add a comment in the cell explaining what the error was.\n",
    "\n",
    "> first_name= Anne\n",
    "<br>\n",
    "> full_name=first_name+last_name\n",
    "<br>\n",
    "> print(first_name,last_name)\n"
   ]
  },
  {
   "cell_type": "code",
   "execution_count": 9,
   "metadata": {},
   "outputs": [
    {
     "name": "stdout",
     "output_type": "stream",
     "text": [
      "John Stewart\n"
     ]
    }
   ],
   "source": [
    "first_name = 'John'\n",
    "last_name = 'Stewart'\n",
    "full_name = first_name + last_name\n",
    "print(first_name, last_name)\n",
    "\n",
    "#Error was a NameError because 'John' wasn't defined as a string.\n",
    "#last_name wasn't defined at all. "
   ]
  },
  {
   "cell_type": "markdown",
   "metadata": {},
   "source": [
    "<h3>Question 6\n",
    "\n",
    "> In a new cell display the value 7.4 shortened to an integer. Use a function to do this."
   ]
  },
  {
   "cell_type": "code",
   "execution_count": 10,
   "metadata": {},
   "outputs": [
    {
     "name": "stdout",
     "output_type": "stream",
     "text": [
      "7\n"
     ]
    }
   ],
   "source": [
    "print(int(7.4))"
   ]
  },
  {
   "cell_type": "markdown",
   "metadata": {},
   "source": [
    "<h3>Question 7\n",
    "\n",
    ">Copy this code into a cell in your file. The code contains an error. Correct the error. Add a comment in the cell explaining what the error was.\n",
    "\n",
    ">Value_1=6\n",
    "<br>\n",
    ">Value_2=8\n",
    "<br>\n",
    ">Totll = Value_1+Value_2\n",
    "<br>\n",
    ">Total\n"
   ]
  },
  {
   "cell_type": "code",
   "execution_count": 16,
   "metadata": {},
   "outputs": [
    {
     "name": "stdout",
     "output_type": "stream",
     "text": [
      "14\n"
     ]
    }
   ],
   "source": [
    "Value_1 = 6\n",
    "Value_2 = 8\n",
    "Total = Value_1 + Value_2\n",
    "print(Total)\n",
    "\n",
    "#The error was misspelling Totll."
   ]
  },
  {
   "cell_type": "markdown",
   "metadata": {},
   "source": [
    "<h3>Question 8\n",
    "\n",
    ">Create two input prompts which will accept integers, assign the sum of the two integers to a variable called total. Following the notes, use the total variable in a print statement which should say (assuming the two inputs were 4 and 8):\n",
    "\n",
    " >The total number of visitors was 12\n"
   ]
  },
  {
   "cell_type": "code",
   "execution_count": 21,
   "metadata": {},
   "outputs": [
    {
     "name": "stdout",
     "output_type": "stream",
     "text": [
      "The total number of visitors was 12\n"
     ]
    }
   ],
   "source": [
    "input1 = int(input(\"Input first number: \"))\n",
    "input2 = int(input(\"Input second number: \"))\n",
    "sum = input1 + input2\n",
    "print(\"The total number of visitors was\", sum)\n"
   ]
  },
  {
   "cell_type": "markdown",
   "metadata": {},
   "source": [
    "<h3>Question 9\n",
    "\n",
    ">In three separate cells show the results of true division, floor division and modulo of the number 17 divided by 3. Note: when you do the true division on this you will probably see that it has a large number of decimal points. Try this function: round(17/3, 2) to round to two decimal places"
   ]
  },
  {
   "cell_type": "code",
   "execution_count": 24,
   "metadata": {},
   "outputs": [
    {
     "data": {
      "text/plain": [
       "5.67"
      ]
     },
     "execution_count": 24,
     "metadata": {},
     "output_type": "execute_result"
    }
   ],
   "source": [
    "round(17/3, 2)"
   ]
  },
  {
   "cell_type": "code",
   "execution_count": 25,
   "metadata": {},
   "outputs": [
    {
     "data": {
      "text/plain": [
       "1"
      ]
     },
     "execution_count": 25,
     "metadata": {},
     "output_type": "execute_result"
    }
   ],
   "source": [
    "7//4"
   ]
  },
  {
   "cell_type": "code",
   "execution_count": 26,
   "metadata": {},
   "outputs": [
    {
     "data": {
      "text/plain": [
       "3"
      ]
     },
     "execution_count": 26,
     "metadata": {},
     "output_type": "execute_result"
    }
   ],
   "source": [
    "7%4"
   ]
  },
  {
   "cell_type": "markdown",
   "metadata": {},
   "source": [
    "<h3>Question 10\n",
    "\n",
    "> The cover price of a book is £25 but bookshops get a 40% discount (this is the wholesale price). The shipping for the first copy is £3 and for any additional copies the shipping is 75 pence. What is the total wholesale cost for 60 copies including shipping? Use variables as much as possible for this."
   ]
  },
  {
   "cell_type": "code",
   "execution_count": 37,
   "metadata": {},
   "outputs": [
    {
     "data": {
      "text/plain": [
       "947.25"
      ]
     },
     "execution_count": 37,
     "metadata": {},
     "output_type": "execute_result"
    }
   ],
   "source": [
    "cover_price = 25\n",
    "discount_price = cover_price * 0.40\n",
    "cover_discount_price = cover_price - discount_price\n",
    "#print(cover_discount_price)\n",
    "shipping_price = 0.75\n",
    "#additional_copies = shipping_price - 2.25\n",
    "#print(additional_copies)\n",
    "total_cost = cover_discount_price + shipping_price\n",
    "number_ordered = 60\n",
    "\n",
    "total_order_cost = total_cost * number_ordered + 2.25\n",
    "total_order_cost"
   ]
  },
  {
   "cell_type": "code",
   "execution_count": 39,
   "metadata": {},
   "outputs": [
    {
     "name": "stdout",
     "output_type": "stream",
     "text": [
      "15.0\n"
     ]
    },
    {
     "data": {
      "text/plain": [
       "947.25"
      ]
     },
     "execution_count": 39,
     "metadata": {},
     "output_type": "execute_result"
    }
   ],
   "source": [
    "cover_price = 25\n",
    "discount_price = .40\n",
    "wholesale_price = cover_price - (discount_price * cover_price)\n",
    "#print(wholesale_price)\n",
    "shipping_cost = .75\n",
    "first_ship_cost = 3\n",
    "total_cost_each = wholesale_price + shipping_cost\n",
    "number_ordered = 60\n",
    "total_order_cost = total_cost_each * number_ordered + (first_ship_cost - shipping_cost)\n",
    "total_order_cost"
   ]
  },
  {
   "cell_type": "markdown",
   "metadata": {},
   "source": [
    "<h> EXTENSION - do it with user inputs"
   ]
  },
  {
   "cell_type": "code",
   "execution_count": 40,
   "metadata": {},
   "outputs": [
    {
     "data": {
      "text/plain": [
       "947.25"
      ]
     },
     "execution_count": 40,
     "metadata": {},
     "output_type": "execute_result"
    }
   ],
   "source": [
    "#Code for user inputs\n",
    "cover_price = int(input('Enter the cover price:'))\n",
    "discount_price = float(input('Enter the discount:'))\n",
    "first_ship_cost = float(input('Enter first book shipping cost:'))\n",
    "shipping_cost = float(input('Enter bulk buy cost'))\n",
    "number_ordered = int(input('How many books to order:'))\n",
    "total_cost_each = cover_price - (discount_price * cover_price)\n",
    "total_whole_cost = total_cost_each + shipping_cost\n",
    "total = total_whole_cost * number_ordered + (first_ship_cost - shipping_cost)\n",
    "total"
   ]
  }
 ],
 "metadata": {
  "kernelspec": {
   "display_name": "Python 3.9.6 64-bit",
   "language": "python",
   "name": "python3"
  },
  "language_info": {
   "codemirror_mode": {
    "name": "ipython",
    "version": 3
   },
   "file_extension": ".py",
   "mimetype": "text/x-python",
   "name": "python",
   "nbconvert_exporter": "python",
   "pygments_lexer": "ipython3",
   "version": "3.9.6"
  },
  "orig_nbformat": 2,
  "vscode": {
   "interpreter": {
    "hash": "31f2aee4e71d21fbe5cf8b01ff0e069b9275f58929596ceb00d14d90e3e16cd6"
   }
  }
 },
 "nbformat": 4,
 "nbformat_minor": 2
}
