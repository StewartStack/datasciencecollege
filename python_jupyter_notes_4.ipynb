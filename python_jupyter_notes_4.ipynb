{
 "cells": [
  {
   "cell_type": "code",
   "execution_count": null,
   "metadata": {},
   "outputs": [],
   "source": [
    "## Python notes 4"
   ]
  },
  {
   "cell_type": "markdown",
   "metadata": {},
   "source": [
    "## Q1\n",
    "### Using the list provided, remove all instances of the element ‘snake’ from the list & print the amended list.\n",
    "### Tip: use a WHILE loop"
   ]
  },
  {
   "cell_type": "code",
   "execution_count": 1,
   "metadata": {},
   "outputs": [
    {
     "name": "stdout",
     "output_type": "stream",
     "text": [
      "3\n"
     ]
    }
   ],
   "source": [
    "# Q1 remove snake\n",
    "pets=['dog','cat','snake','hamster','snake','parrot','snake']\n",
    "print(pets)\n",
    "\n",
    "val = 'snake'\n",
    "while val in pets:\n",
    "     pets.remove(val)\n",
    "print(pets)"
   ]
  },
  {
   "cell_type": "markdown",
   "metadata": {},
   "source": [
    "## Q2\n",
    "### Using the 2 lines of code provided, do the following:\n",
    "### Move the 3 unconfirmed users to the confirmed users.\n",
    "### Print a message which says, 'Verifying user:' & shows each user name. The names should have an initial capital letter.\n",
    "### Print a message 'the following users have been verifed' with the name of each verified user shown on a separate line\n",
    "### Check that the original list is now empty.\n",
    "### Tip: use a WHILE loop, POP, APPEND, CAPITALIZE & a FOR loop the second part (You can also try it with a FOR loop for the first part)."
   ]
  },
  {
   "cell_type": "code",
   "execution_count": null,
   "metadata": {},
   "outputs": [],
   "source": [
    "#Q2 verify users\n",
    "unconfirmed_users = ['jen', 'ann', 'helen']\n",
    "confirmed_users = []\n",
    "\n",
    "while unconfirmed_users:\n",
    "    current_user = unconfirmed_users.pop()\n",
    "    print(\"Verifying user: \", current_user.capitalize())\n",
    "    confirmed_users.append(current_user)\n",
    "\n",
    "print(\"The following users have been verified:\")\n",
    "for user in confirmed_users:\n",
    "    print(user.capitalize())\n",
    "\n",
    "print(\"unconfirmed_users: \",  unconfirmed_users)  # Output: []\n",
    "     "
   ]
  },
  {
   "cell_type": "markdown",
   "metadata": {},
   "source": [
    "## Q3\n",
    "### Use the two lines of code provided . Loop through the list of sandwich orders and print a message for each order '*Your ?? sandwich is being made*'. \n",
    "### As each sandwich is made, move it to the list of finished sandwiches. \n",
    "### After all the sandwiches have been made, print a message listing each sandwich that was made. '*Your ?? sandwich is ready*'. \n",
    "### Tip: use a WHILE loop, POP, APPEND & a FOR loop"
   ]
  },
  {
   "cell_type": "code",
   "execution_count": 1,
   "metadata": {},
   "outputs": [
    {
     "name": "stdout",
     "output_type": "stream",
     "text": [
      "Your tuna sandwich is ready.\n",
      "Your ham sandwich is ready.\n",
      "Your cheese sandwich is ready.\n",
      "Your veggie sandwich is ready.\n"
     ]
    }
   ],
   "source": [
    "#Q3 sandwiches\n",
    "sandwich_orders = ['veggie', 'cheese', 'ham', 'tuna']\n",
    "finished_sandwiches = []\n",
    "\n",
    "while sandwich_orders:\n",
    "    current_sandwich = sandwich_orders.pop()\n",
    "    finished_sandwiches.append(current_sandwich)\n",
    "\n",
    "for sandwich in finished_sandwiches:\n",
    "    print(f\"Your {sandwich} sandwich is ready.\")"
   ]
  },
  {
   "cell_type": "markdown",
   "metadata": {},
   "source": [
    "## Q4\n",
    "### Use the list provided. \n",
    "### Write code that will print a greeting to each user after they log in to a website. Loop through the list, and print a greeting to each user:\n",
    "### If the username is 'admin', print a special greeting, such as ‘Hello admin, do you need to see a status report?’\n",
    "### Otherwise, print a generic greeting, such as ‘Hello Ann, thank you for logging in again’.\n",
    "### Tip: use a FOR loop, an IF statement, the appropriate syntax for 'not equal to' & CAPITALIZE"
   ]
  },
  {
   "cell_type": "code",
   "execution_count": null,
   "metadata": {},
   "outputs": [],
   "source": [
    "#Q4 login greeting\n",
    "usernames = ['ann', 'kat', 'admin', 'dana', 'jude']\n",
    "\n",
    "for user in usernames:\n",
    "    if user != 'admin':\n",
    "        print(f\"Hello {user.capitalize()}, thank you for logging in again.\")\n",
    "    else:\n",
    "        print(f\"Hello {user.capitalize()}, do you need to see a status report?\")\n"
   ]
  },
  {
   "cell_type": "markdown",
   "metadata": {},
   "source": [
    "## Q5\n",
    "### Use the list of current users provided.\n",
    "### Make a second list of five usernames called new_users. Make sure two of the new usernames are also in the current_users list.\n",
    "### Loop through the new_users list to see if each new username has already been used. If it has, print a message that the person will need to enter a new username. If a username has not been used, print a message saying that the username is available.\n",
    "### TIP: Use a FOR loop, an IF-ELSE statement & CAPITALIZE."
   ]
  },
  {
   "cell_type": "code",
   "execution_count": null,
   "metadata": {},
   "outputs": [],
   "source": [
    "#Q5 check username\n",
    "current_users=['ann','kat','momo','dana','jude']\n",
    "\n",
    "new_users = ['john', 'claire', 'kat', 'leo', 'ann']\n",
    "\n",
    "for new_user in new_users:\n",
    "    if new_user in current_users:\n",
    "        print('Sorry', new_user.capitalize(), 'that username is already taken. Please choose a different username.')\n",
    "    else:\n",
    "        print('Congratulations', new_user.capitalize(), 'that username is available!')"
   ]
  },
  {
   "cell_type": "markdown",
   "metadata": {},
   "source": [
    "## Q6\n",
    "### Use the tuple provided.\n",
    "### Use a FOR loop to print each food the restaurant offers on separate lines. \n",
    "### Print a message saying '*one of the items our restaurant offers is ??*'. Do this by picking an item from tuple by index position.\n",
    "### The restaurant changes its menu, replacing one of the items with a different food\n",
    "### Rewrite the tuple, and then use a FOR loop to print each of the items on the revised menu on separate lines.\n"
   ]
  },
  {
   "cell_type": "code",
   "execution_count": null,
   "metadata": {},
   "outputs": [],
   "source": [
    "#restaurant items\n",
    "menu = ('soup', 'sandwich', 'burger', 'salad', 'wrap')\n",
    "\n",
    "# Print each item on the menu on a separate line\n",
    "for item in menu:\n",
    "    print(item)\n",
    "\n",
    "# Print a message saying \"one of the items our restaurant offers is [item]\"\n",
    "print('One of the items our restaurant offers is ', menu[2])\n",
    "\n",
    "# Revised menu\n",
    "menu = ('soup', 'sandwich', 'pizza', 'salad', 'wrap')\n",
    "\n",
    "# Print each item on the revised menu on a separate line\n",
    "for item in menu:\n",
    "    print(item)"
   ]
  }
 ],
 "metadata": {
  "kernelspec": {
   "display_name": "Python 3.9.6 64-bit",
   "language": "python",
   "name": "python3"
  },
  "language_info": {
   "codemirror_mode": {
    "name": "ipython",
    "version": 3
   },
   "file_extension": ".py",
   "mimetype": "text/x-python",
   "name": "python",
   "nbconvert_exporter": "python",
   "pygments_lexer": "ipython3",
   "version": "3.9.6"
  },
  "orig_nbformat": 4,
  "vscode": {
   "interpreter": {
    "hash": "31f2aee4e71d21fbe5cf8b01ff0e069b9275f58929596ceb00d14d90e3e16cd6"
   }
  }
 },
 "nbformat": 4,
 "nbformat_minor": 2
}
