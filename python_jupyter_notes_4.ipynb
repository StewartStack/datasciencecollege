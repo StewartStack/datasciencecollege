{
 "cells": [
  {
   "cell_type": "code",
   "execution_count": null,
   "metadata": {},
   "outputs": [],
   "source": [
    "## Python notes 4"
   ]
  },
  {
   "cell_type": "markdown",
   "metadata": {},
   "source": [
    "## Q1\n",
    "### Using the list provided, remove all instances of the element ‘snake’ from the list & print the amended list.\n",
    "### Tip: use a WHILE loop"
   ]
  },
  {
   "cell_type": "code",
   "execution_count": 1,
   "metadata": {},
   "outputs": [
    {
     "name": "stdout",
     "output_type": "stream",
     "text": [
      "3\n"
     ]
    }
   ],
   "source": [
    "# Q1 remove snake\n",
    "pets=['dog','cat','snake','hamster','snake','parrot','snake']\n",
    "print(pets)\n",
    "\n",
    "val = 'snake'\n",
    "while val in pets:\n",
    "     pets.remove(val)\n",
    "print(pets)"
   ]
  },
  {
   "cell_type": "markdown",
   "metadata": {},
   "source": [
    "## Q2\n",
    "### Using the 2 lines of code provided, do the following:\n",
    "### Move the 3 unconfirmed users to the confirmed users.\n",
    "### Print a message which says, 'Verifying user:' & shows each user name. The names should have an initial capital letter.\n",
    "### Print a message 'the following users have been verifed' with the name of each verified user shown on a separate line\n",
    "### Check that the original list is now empty.\n",
    "### Tip: use a WHILE loop, POP, APPEND, CAPITALIZE & a FOR loop the second part (You can also try it with a FOR loop for the first part)."
   ]
  },
  {
   "cell_type": "code",
   "execution_count": null,
   "metadata": {},
   "outputs": [],
   "source": []
  }
 ],
 "metadata": {
  "kernelspec": {
   "display_name": "Python 3.9.6 64-bit",
   "language": "python",
   "name": "python3"
  },
  "language_info": {
   "codemirror_mode": {
    "name": "ipython",
    "version": 3
   },
   "file_extension": ".py",
   "mimetype": "text/x-python",
   "name": "python",
   "nbconvert_exporter": "python",
   "pygments_lexer": "ipython3",
   "version": "3.9.6"
  },
  "orig_nbformat": 4,
  "vscode": {
   "interpreter": {
    "hash": "31f2aee4e71d21fbe5cf8b01ff0e069b9275f58929596ceb00d14d90e3e16cd6"
   }
  }
 },
 "nbformat": 4,
 "nbformat_minor": 2
}
