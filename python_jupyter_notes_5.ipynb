{
 "cells": [
  {
   "cell_type": "markdown",
   "metadata": {},
   "source": [
    "#python jupyter notes 5\n",
    "## Some python revision outputs\n",
    "### 02/01/2023"
   ]
  },
  {
   "cell_type": "code",
   "execution_count": 29,
   "metadata": {},
   "outputs": [
    {
     "name": "stdout",
     "output_type": "stream",
     "text": [
      "['dog', 'cat', 'parrot', 'alligator', 'hamster']\n",
      "dog\n",
      "cat\n",
      "parrot\n",
      "alligator\n",
      "hamster\n"
     ]
    }
   ],
   "source": [
    "#some outputs\n",
    "\n",
    "pets = ['dog', 'cat', 'parrot', 'alligator', 'hamster']\n",
    "print(pets)\n",
    "\n",
    "for p in pets:\n",
    "     print(p)\n"
   ]
  },
  {
   "cell_type": "code",
   "execution_count": null,
   "metadata": {},
   "outputs": [],
   "source": [
    "old_pets = pets[:]\n",
    "print(pets)\n",
    "print(old_pets)"
   ]
  },
  {
   "cell_type": "code",
   "execution_count": null,
   "metadata": {},
   "outputs": [],
   "source": [
    "old_pets.append('beast')\n",
    "pets.append('ogre')\n",
    "print(old_pets)\n",
    "print(pets)"
   ]
  },
  {
   "cell_type": "code",
   "execution_count": null,
   "metadata": {},
   "outputs": [],
   "source": [
    "i = 5/2\n",
    "print(i)"
   ]
  },
  {
   "cell_type": "code",
   "execution_count": null,
   "metadata": {},
   "outputs": [],
   "source": [
    "for i in range(2, 6):\n",
    "     print(i)"
   ]
  },
  {
   "cell_type": "code",
   "execution_count": null,
   "metadata": {},
   "outputs": [],
   "source": [
    "my_numbers = list(range(5, 16, 3))\n",
    "print(my_numbers)"
   ]
  },
  {
   "cell_type": "code",
   "execution_count": 35,
   "metadata": {},
   "outputs": [
    {
     "name": "stdout",
     "output_type": "stream",
     "text": [
      "\n",
      "Here are the last 3 dogs on my list: \n",
      "flash\n",
      "indy\n",
      "roly\n"
     ]
    }
   ],
   "source": [
    "dogs = ['max', 'bear', 'flash', 'indy', 'roly']\n",
    "print('\\nHere are the last 3 dogs on my list: ')\n",
    "#print(dogs)\n",
    "\n",
    "for d in dogs[2:]:\n",
    "     print(d)\n",
    "#print(dogs)"
   ]
  },
  {
   "cell_type": "code",
   "execution_count": 38,
   "metadata": {},
   "outputs": [
    {
     "name": "stdout",
     "output_type": "stream",
     "text": [
      "admistion is: 0\n"
     ]
    }
   ],
   "source": [
    "age = 4\n",
    "if age < 5:\n",
    "     price = 0\n",
    "elif age < 18:\n",
    "     price = 5\n",
    "else:\n",
    "     price = 10\n",
    "print('admistion is:', price)"
   ]
  },
  {
   "cell_type": "code",
   "execution_count": 39,
   "metadata": {},
   "outputs": [
    {
     "ename": "IndentationError",
     "evalue": "expected an indented block (4009675064.py, line 4)",
     "output_type": "error",
     "traceback": [
      "\u001b[0;36m  Cell \u001b[0;32mIn[39], line 4\u001b[0;36m\u001b[0m\n\u001b[0;31m    print(d)\u001b[0m\n\u001b[0m    ^\u001b[0m\n\u001b[0;31mIndentationError\u001b[0m\u001b[0;31m:\u001b[0m expected an indented block\n"
     ]
    }
   ],
   "source": [
    "#indentation Error\n",
    "\n",
    "dogs = ['indy', 'bear', 'max']\n",
    "print(dogs)\n",
    "for d in dogs:\n",
    "print(d)\n",
    "print('this is my list of dogs')"
   ]
  },
  {
   "cell_type": "code",
   "execution_count": 41,
   "metadata": {},
   "outputs": [
    {
     "name": "stdout",
     "output_type": "stream",
     "text": [
      "['indy', 'bear', 'max']\n"
     ]
    },
    {
     "ename": "NameError",
     "evalue": "name 'dog' is not defined",
     "output_type": "error",
     "traceback": [
      "\u001b[0;31m---------------------------------------------------------------------------\u001b[0m",
      "\u001b[0;31mNameError\u001b[0m                                 Traceback (most recent call last)",
      "Cell \u001b[0;32mIn[41], line 3\u001b[0m\n\u001b[1;32m      1\u001b[0m dogs \u001b[38;5;241m=\u001b[39m [\u001b[38;5;124m'\u001b[39m\u001b[38;5;124mindy\u001b[39m\u001b[38;5;124m'\u001b[39m, \u001b[38;5;124m'\u001b[39m\u001b[38;5;124mbear\u001b[39m\u001b[38;5;124m'\u001b[39m, \u001b[38;5;124m'\u001b[39m\u001b[38;5;124mmax\u001b[39m\u001b[38;5;124m'\u001b[39m]\n\u001b[1;32m      2\u001b[0m \u001b[38;5;28mprint\u001b[39m(dogs)\n\u001b[0;32m----> 3\u001b[0m \u001b[38;5;28;01mfor\u001b[39;00m d \u001b[38;5;129;01min\u001b[39;00m \u001b[43mdog\u001b[49m:\n\u001b[1;32m      4\u001b[0m      \u001b[38;5;28mprint\u001b[39m(d)\n\u001b[1;32m      5\u001b[0m \u001b[38;5;28mprint\u001b[39m(\u001b[38;5;124m'\u001b[39m\u001b[38;5;124mthis is my list of dogs\u001b[39m\u001b[38;5;124m'\u001b[39m)\n",
      "\u001b[0;31mNameError\u001b[0m: name 'dog' is not defined"
     ]
    }
   ],
   "source": [
    "#NameError \n",
    "\n",
    "dogs = ['indy', 'bear', 'max']\n",
    "print(dogs)\n",
    "for d in dog:\n",
    "     print(d)\n",
    "print('this is my list of dogs')"
   ]
  },
  {
   "cell_type": "code",
   "execution_count": 42,
   "metadata": {},
   "outputs": [
    {
     "ename": "SyntaxError",
     "evalue": "invalid syntax (1949609962.py, line 3)",
     "output_type": "error",
     "traceback": [
      "\u001b[0;36m  Cell \u001b[0;32mIn[42], line 3\u001b[0;36m\u001b[0m\n\u001b[0;31m    for d in dogs\u001b[0m\n\u001b[0m                 ^\u001b[0m\n\u001b[0;31mSyntaxError\u001b[0m\u001b[0;31m:\u001b[0m invalid syntax\n"
     ]
    }
   ],
   "source": [
    "#syntax Error\n",
    "\n",
    "dogs = ['indy', 'bear', 'max']\n",
    "print(dogs)\n",
    "for d in dogs\n",
    "     print(d)\n",
    "print('this is my list of dogs')"
   ]
  }
 ],
 "metadata": {
  "kernelspec": {
   "display_name": "Python 3.9.6 64-bit",
   "language": "python",
   "name": "python3"
  },
  "language_info": {
   "codemirror_mode": {
    "name": "ipython",
    "version": 3
   },
   "file_extension": ".py",
   "mimetype": "text/x-python",
   "name": "python",
   "nbconvert_exporter": "python",
   "pygments_lexer": "ipython3",
   "version": "3.9.6"
  },
  "orig_nbformat": 4,
  "vscode": {
   "interpreter": {
    "hash": "31f2aee4e71d21fbe5cf8b01ff0e069b9275f58929596ceb00d14d90e3e16cd6"
   }
  }
 },
 "nbformat": 4,
 "nbformat_minor": 2
}
