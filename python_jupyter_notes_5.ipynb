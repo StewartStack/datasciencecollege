{
 "cells": [
  {
   "cell_type": "markdown",
   "metadata": {},
   "source": [
    "#python jupyter notes 5\n",
    "## Some python revision outputs\n",
    "### 02/01/2023"
   ]
  },
  {
   "cell_type": "code",
   "execution_count": null,
   "metadata": {},
   "outputs": [],
   "source": [
    "#some outputs\n",
    "\n",
    "pets = ['dog', 'cat', 'parrot', 'alligator', 'hamster']\n",
    "print(pets)\n",
    "\n",
    "for p in pets:\n",
    "     print(p)\n"
   ]
  },
  {
   "cell_type": "code",
   "execution_count": null,
   "metadata": {},
   "outputs": [],
   "source": [
    "old_pets = pets[:]\n",
    "print(pets)\n",
    "print(old_pets)"
   ]
  },
  {
   "cell_type": "code",
   "execution_count": 4,
   "metadata": {},
   "outputs": [
    {
     "name": "stdout",
     "output_type": "stream",
     "text": [
      "['dog', 'cat', 'parrot', 'alligator', 'hamster', 'beast']\n",
      "['dog', 'cat', 'parrot', 'alligator', 'hamster', 'ogre']\n"
     ]
    }
   ],
   "source": [
    "old_pets.append('beast')\n",
    "pets.append('ogre')\n",
    "print(old_pets)\n",
    "print(pets)"
   ]
  }
 ],
 "metadata": {
  "kernelspec": {
   "display_name": "Python 3.9.6 64-bit",
   "language": "python",
   "name": "python3"
  },
  "language_info": {
   "codemirror_mode": {
    "name": "ipython",
    "version": 3
   },
   "file_extension": ".py",
   "mimetype": "text/x-python",
   "name": "python",
   "nbconvert_exporter": "python",
   "pygments_lexer": "ipython3",
   "version": "3.9.6"
  },
  "orig_nbformat": 4,
  "vscode": {
   "interpreter": {
    "hash": "31f2aee4e71d21fbe5cf8b01ff0e069b9275f58929596ceb00d14d90e3e16cd6"
   }
  }
 },
 "nbformat": 4,
 "nbformat_minor": 2
}
