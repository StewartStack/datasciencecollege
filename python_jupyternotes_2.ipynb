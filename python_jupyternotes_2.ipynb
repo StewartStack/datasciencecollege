{
 "cells": [
  {
   "cell_type": "code",
   "execution_count": null,
   "metadata": {},
   "outputs": [],
   "source": [
    "#simple if -TRUE\n",
    "age = 19\n",
    "if age >= 18:\n",
    "    print(\"You are old enough to vote!\")"
   ]
  },
  {
   "cell_type": "code",
   "execution_count": null,
   "metadata": {},
   "outputs": [],
   "source": [
    "#simple if - FALSE\n",
    "age = 16\n",
    "if age >= 18:\n",
    "    print(\"You are old enough to vote!\")"
   ]
  },
  {
   "cell_type": "code",
   "execution_count": null,
   "metadata": {},
   "outputs": [],
   "source": [
    "grade = 85\n",
    "if grade >= 60:\n",
    "print(\"passed\")"
   ]
  },
  {
   "cell_type": "code",
   "execution_count": null,
   "metadata": {},
   "outputs": [],
   "source": [
    "grade = 85\n",
    "if grade >= 60:\n",
    "    print(\"passed\")\n",
    "        print(\"passed\")"
   ]
  },
  {
   "cell_type": "code",
   "execution_count": null,
   "metadata": {},
   "outputs": [],
   "source": [
    "#else if - create a statement which will dispaly a message if the condition is tested and evaluates as FALSE\n",
    "age = 16\n",
    "if age >= 18:\n",
    "    print('You are old enough to vote!')\n",
    "else:\n",
    "    print('Register when you are 18')"
   ]
  },
  {
   "cell_type": "code",
   "execution_count": null,
   "metadata": {},
   "outputs": [],
   "source": [
    "#from user input\n",
    "age = int(input(\"What age are you?: \"))\n",
    "if age >= 18:\n",
    "    print(\"You are old enough to vote!\")\n",
    "else:\n",
    "    print(\"Register when you are 18\")"
   ]
  },
  {
   "cell_type": "code",
   "execution_count": null,
   "metadata": {},
   "outputs": [],
   "source": [
    "result = 60\n",
    "if result >= 70:\n",
    "    print(\"Your grade is an A\")\n",
    "elif result >= 60:\n",
    "    print(\"Your grade is a B\")\n",
    "elif result >= 50:\n",
    "    print(\"Your grade is a C\")\n",
    "else:\n",
    "    print(\"You have failed the exam\")"
   ]
  },
  {
   "cell_type": "code",
   "execution_count": null,
   "metadata": {},
   "outputs": [],
   "source": [
    "result = 70\n",
    "if result >= 50:\n",
    "    print(\"Your grade is an C\")\n",
    "elif result >= 60:\n",
    "    print(\"Your grade is a B\")\n",
    "elif result >= 70:\n",
    "    print(\"Your grade is a A\")\n",
    "else:\n",
    "    print(\"You have failed the exam\")"
   ]
  },
  {
   "cell_type": "code",
   "execution_count": null,
   "metadata": {},
   "outputs": [],
   "source": [
    "#test for multiple conditions using if statements and list items. Note the final print statement outside the if block.\n",
    "requested_toppings = [\"mushrooms\", \"extra cheese\"]\n",
    "if \"mushrooms\" in requested_toppings:\n",
    "    print(\"Adding mushrooms.\")\n",
    "if \"pepperoni\" in requested_toppings:\n",
    "    print(\"Adding pepperoni.\")\n",
    "if \"extra cheese\" in requested_toppings:\n",
    "    print(\"Adding extra cheese.\")\n",
    "print(\"\\nFinished making your pizza!\")"
   ]
  },
  {
   "cell_type": "code",
   "execution_count": null,
   "metadata": {},
   "outputs": [],
   "source": [
    "#=========WHILE==============="
   ]
  },
  {
   "cell_type": "code",
   "execution_count": null,
   "metadata": {},
   "outputs": [],
   "source": [
    "#WHILE - number 1 to 5\n",
    "current_number = 1\n",
    "while current_number <= 5:\n",
    "    print(current_number)\n",
    "    current_number = current_number + 1"
   ]
  },
  {
   "cell_type": "code",
   "execution_count": 37,
   "metadata": {},
   "outputs": [
    {
     "name": "stdout",
     "output_type": "stream",
     "text": [
      "1\n",
      "2\n",
      "3\n",
      "4\n",
      "5\n"
     ]
    }
   ],
   "source": [
    "#WHILE - numbers 1 to 5 with augmented assignment\n",
    "current_number = 1\n",
    "while current_number <= 5:\n",
    "    print(current_number)\n",
    "    current_number += 1"
   ]
  },
  {
   "cell_type": "code",
   "execution_count": 44,
   "metadata": {},
   "outputs": [
    {
     "name": "stdout",
     "output_type": "stream",
     "text": [
      "Hello\n"
     ]
    }
   ],
   "source": [
    "#create a while loop which ends when the user enters quit\n",
    "prompt = \"Tell me something , and i will repeat it back to you or enter 'quit' to end the program.\"\n",
    "message = \"\"\n",
    "while message != \"quit\":\n",
    "    message = input(prompt)\n",
    "    if message != \"quit\":\n",
    "        print(message)"
   ]
  },
  {
   "cell_type": "code",
   "execution_count": null,
   "metadata": {},
   "outputs": [],
   "source": [
    "#Use flags\n",
    "prompt = \"Tell me something, and  will SHOUT it back to you or enter 'quit' to end the program\"\n",
    "active = True\n",
    "while active:\n",
    "    message = input(prompt)\n",
    "    if message == \"quit\":\n",
    "        active = False\n",
    "    elif message == \"banana\":\n",
    "        active = False\n",
    "        print(\"silly\")\n",
    "    else:\n",
    "        print(message)"
   ]
  },
  {
   "cell_type": "code",
   "execution_count": null,
   "metadata": {},
   "outputs": [],
   "source": [
    "#Break\n",
    "prompt = \"\\nPlease enter the name of a city you have visited. (enter quit when you have finished):\"\n",
    "while True:\n",
    "    city = input(prompt)\n",
    "    if city == \"quit\":\n",
    "        break\n",
    "    else:\n",
    "        print(\"I've never been to\" , city.title())\n",
    "        "
   ]
  },
  {
   "cell_type": "code",
   "execution_count": null,
   "metadata": {},
   "outputs": [],
   "source": [
    "#continue\n",
    "current_number = 0\n",
    "while current_number < 10:\n",
    "    current_number += 1\n",
    "    if current_number % 2 == 0:\n",
    "        continue\n",
    "    print(current_number)"
   ]
  },
  {
   "cell_type": "code",
   "execution_count": null,
   "metadata": {},
   "outputs": [],
   "source": [
    "#For 1\n",
    "for character in \"Python\":\n",
    "    print(character)"
   ]
  },
  {
   "cell_type": "code",
   "execution_count": null,
   "metadata": {},
   "outputs": [],
   "source": [
    "#For 2\n",
    "for character in \"Python\":\n",
    "    print(character, end=\" \")"
   ]
  },
  {
   "cell_type": "code",
   "execution_count": null,
   "metadata": {},
   "outputs": [],
   "source": [
    "#For 3\n",
    "for banana in \"Python\":\n",
    "    print(banana, end=\" \")"
   ]
  },
  {
   "cell_type": "code",
   "execution_count": null,
   "metadata": {},
   "outputs": [],
   "source": [
    "#For 4\n",
    "print(\"cat\", \"dog\", \"parrot\")"
   ]
  },
  {
   "cell_type": "code",
   "execution_count": null,
   "metadata": {},
   "outputs": [],
   "source": [
    "print(\"cat\", \"dog\", \"parrot\", sep=\", \")"
   ]
  },
  {
   "cell_type": "code",
   "execution_count": null,
   "metadata": {},
   "outputs": [],
   "source": [
    "#Lists 1\n",
    "total = 0\n",
    "for number in [2, 4, 6, 8]:\n",
    "    total += number\n",
    "print(total)"
   ]
  },
  {
   "cell_type": "code",
   "execution_count": null,
   "metadata": {},
   "outputs": [],
   "source": [
    "#RANGE can take 3 arguments\n",
    "#range start, stop ,step"
   ]
  },
  {
   "cell_type": "code",
   "execution_count": null,
   "metadata": {},
   "outputs": [],
   "source": [
    "#using range in simple for loop (0 -9)\n",
    "x = range(10)\n",
    "for n in x:\n",
    "    print(n, end=\", \")"
   ]
  },
  {
   "cell_type": "code",
   "execution_count": null,
   "metadata": {},
   "outputs": [],
   "source": [
    "#start & stop values\n",
    "x = range(2, 5)\n",
    "for n in x:\n",
    "    print(n)"
   ]
  },
  {
   "cell_type": "code",
   "execution_count": null,
   "metadata": {},
   "outputs": [],
   "source": [
    "#start, stop, step by 2\n",
    "x = range(2, 20, 2)\n",
    "for n in x:\n",
    "    print(n)"
   ]
  },
  {
   "cell_type": "code",
   "execution_count": 38,
   "metadata": {},
   "outputs": [
    {
     "data": {
      "text/plain": [
       "True"
      ]
     },
     "execution_count": 38,
     "metadata": {},
     "output_type": "execute_result"
    }
   ],
   "source": [
    "requested_toppings = [\"mushrooms\", \"onions\", \"pineapple\"]\n",
    "\"mushrooms\" in requested_toppings"
   ]
  },
  {
   "cell_type": "code",
   "execution_count": 39,
   "metadata": {},
   "outputs": [
    {
     "data": {
      "text/plain": [
       "False"
      ]
     },
     "execution_count": 39,
     "metadata": {},
     "output_type": "execute_result"
    }
   ],
   "source": [
    "requested_toppings = [\"mushrooms\", \"onions\", \"pineapple\"]\n",
    "\"pepperoni\" in requested_toppings"
   ]
  },
  {
   "cell_type": "code",
   "execution_count": 40,
   "metadata": {},
   "outputs": [
    {
     "name": "stdout",
     "output_type": "stream",
     "text": [
      "mary you can post a response if you wish.\n"
     ]
    }
   ],
   "source": [
    "banned_users = [\"andrew\", \"carol\", \"david\"]\n",
    "user = \"mary\"\n",
    "if user not in banned_users:\n",
    "    print(user, \"you can post a response if you wish.\")\n"
   ]
  },
  {
   "cell_type": "code",
   "execution_count": 43,
   "metadata": {},
   "outputs": [],
   "source": [
    "banned_users = [\"andrew\", \"carol\", \"david\"]\n",
    "user = \"andrew\"\n",
    "if user not in banned_users:\n",
    "    print(user, \"you can post a response if you wish.\")"
   ]
  },
  {
   "cell_type": "code",
   "execution_count": 47,
   "metadata": {},
   "outputs": [
    {
     "name": "stdout",
     "output_type": "stream",
     "text": [
      "Entrance is £5\n"
     ]
    }
   ],
   "source": [
    "#AND\n",
    "age = 20\n",
    "day = \"saturday\"\n",
    "if age < 18 and day == \"saturday\":\n",
    "    print(\"entrance is free\")\n",
    "else:\n",
    "    print(\"Entrance is £5\")"
   ]
  },
  {
   "cell_type": "code",
   "execution_count": 46,
   "metadata": {},
   "outputs": [
    {
     "name": "stdout",
     "output_type": "stream",
     "text": [
      "west of scotland\n"
     ]
    }
   ],
   "source": [
    "#OR\n",
    "location = input(\"enter a location: \")\n",
    "if location == \"glasgow\" or location ==\"ayr\":\n",
    "    print(\"west of scotland\")\n",
    "else:\n",
    "    print(\"don't know\")"
   ]
  }
 ],
 "metadata": {
  "kernelspec": {
   "display_name": "Python 3.9.12 ('base')",
   "language": "python",
   "name": "python3"
  },
  "language_info": {
   "codemirror_mode": {
    "name": "ipython",
    "version": 3
   },
   "file_extension": ".py",
   "mimetype": "text/x-python",
   "name": "python",
   "nbconvert_exporter": "python",
   "pygments_lexer": "ipython3",
   "version": "3.9.12"
  },
  "orig_nbformat": 4,
  "vscode": {
   "interpreter": {
    "hash": "ad2bdc8ecc057115af97d19610ffacc2b4e99fae6737bb82f5d7fb13d2f2c186"
   }
  }
 },
 "nbformat": 4,
 "nbformat_minor": 2
}
